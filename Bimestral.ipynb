{
  "nbformat": 4,
  "nbformat_minor": 0,
  "metadata": {
    "colab": {
      "provenance": [],
      "authorship_tag": "ABX9TyPGP5eSMsgLHYQSnto3kV29",
      "include_colab_link": true
    },
    "kernelspec": {
      "name": "python3",
      "display_name": "Python 3"
    },
    "language_info": {
      "name": "python"
    },
    "widgets": {
      "application/vnd.jupyter.widget-state+json": {
        "42652ad4d1de4fc0a6e47c3f54215383": {
          "model_module": "@jupyter-widgets/controls",
          "model_name": "VBoxModel",
          "model_module_version": "1.5.0",
          "state": {
            "_dom_classes": [
              "widget-interact"
            ],
            "_model_module": "@jupyter-widgets/controls",
            "_model_module_version": "1.5.0",
            "_model_name": "VBoxModel",
            "_view_count": null,
            "_view_module": "@jupyter-widgets/controls",
            "_view_module_version": "1.5.0",
            "_view_name": "VBoxView",
            "box_style": "",
            "children": [
              "IPY_MODEL_f6b34101f5784489911b156874dbeb93",
              "IPY_MODEL_db42c2db455a454082397bc1962ece86"
            ],
            "layout": "IPY_MODEL_7fa1800b4b8d479a819ae8ccc4625224"
          }
        },
        "f6b34101f5784489911b156874dbeb93": {
          "model_module": "@jupyter-widgets/controls",
          "model_name": "IntSliderModel",
          "model_module_version": "1.5.0",
          "state": {
            "_dom_classes": [],
            "_model_module": "@jupyter-widgets/controls",
            "_model_module_version": "1.5.0",
            "_model_name": "IntSliderModel",
            "_view_count": null,
            "_view_module": "@jupyter-widgets/controls",
            "_view_module_version": "1.5.0",
            "_view_name": "IntSliderView",
            "continuous_update": true,
            "description": "a",
            "description_tooltip": null,
            "disabled": false,
            "layout": "IPY_MODEL_47178f60da4a4d6880f5671310e12fef",
            "max": 5,
            "min": -5,
            "orientation": "horizontal",
            "readout": true,
            "readout_format": "d",
            "step": 1,
            "style": "IPY_MODEL_ca35e615d1e048a4a31e287ef3cfbda5",
            "value": 0
          }
        },
        "db42c2db455a454082397bc1962ece86": {
          "model_module": "@jupyter-widgets/output",
          "model_name": "OutputModel",
          "model_module_version": "1.0.0",
          "state": {
            "_dom_classes": [],
            "_model_module": "@jupyter-widgets/output",
            "_model_module_version": "1.0.0",
            "_model_name": "OutputModel",
            "_view_count": null,
            "_view_module": "@jupyter-widgets/output",
            "_view_module_version": "1.0.0",
            "_view_name": "OutputView",
            "layout": "IPY_MODEL_e56e412eb18244d3810d7a860f4fd1ce",
            "msg_id": "",
            "outputs": [
              {
                "output_type": "display_data",
                "data": {
                  "text/plain": "<Figure size 432x288 with 1 Axes>",
                  "image/png": "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\n"
                },
                "metadata": {}
              }
            ]
          }
        },
        "7fa1800b4b8d479a819ae8ccc4625224": {
          "model_module": "@jupyter-widgets/base",
          "model_name": "LayoutModel",
          "model_module_version": "1.2.0",
          "state": {
            "_model_module": "@jupyter-widgets/base",
            "_model_module_version": "1.2.0",
            "_model_name": "LayoutModel",
            "_view_count": null,
            "_view_module": "@jupyter-widgets/base",
            "_view_module_version": "1.2.0",
            "_view_name": "LayoutView",
            "align_content": null,
            "align_items": null,
            "align_self": null,
            "border": null,
            "bottom": null,
            "display": null,
            "flex": null,
            "flex_flow": null,
            "grid_area": null,
            "grid_auto_columns": null,
            "grid_auto_flow": null,
            "grid_auto_rows": null,
            "grid_column": null,
            "grid_gap": null,
            "grid_row": null,
            "grid_template_areas": null,
            "grid_template_columns": null,
            "grid_template_rows": null,
            "height": null,
            "justify_content": null,
            "justify_items": null,
            "left": null,
            "margin": null,
            "max_height": null,
            "max_width": null,
            "min_height": null,
            "min_width": null,
            "object_fit": null,
            "object_position": null,
            "order": null,
            "overflow": null,
            "overflow_x": null,
            "overflow_y": null,
            "padding": null,
            "right": null,
            "top": null,
            "visibility": null,
            "width": null
          }
        },
        "47178f60da4a4d6880f5671310e12fef": {
          "model_module": "@jupyter-widgets/base",
          "model_name": "LayoutModel",
          "model_module_version": "1.2.0",
          "state": {
            "_model_module": "@jupyter-widgets/base",
            "_model_module_version": "1.2.0",
            "_model_name": "LayoutModel",
            "_view_count": null,
            "_view_module": "@jupyter-widgets/base",
            "_view_module_version": "1.2.0",
            "_view_name": "LayoutView",
            "align_content": null,
            "align_items": null,
            "align_self": null,
            "border": null,
            "bottom": null,
            "display": null,
            "flex": null,
            "flex_flow": null,
            "grid_area": null,
            "grid_auto_columns": null,
            "grid_auto_flow": null,
            "grid_auto_rows": null,
            "grid_column": null,
            "grid_gap": null,
            "grid_row": null,
            "grid_template_areas": null,
            "grid_template_columns": null,
            "grid_template_rows": null,
            "height": null,
            "justify_content": null,
            "justify_items": null,
            "left": null,
            "margin": null,
            "max_height": null,
            "max_width": null,
            "min_height": null,
            "min_width": null,
            "object_fit": null,
            "object_position": null,
            "order": null,
            "overflow": null,
            "overflow_x": null,
            "overflow_y": null,
            "padding": null,
            "right": null,
            "top": null,
            "visibility": null,
            "width": null
          }
        },
        "ca35e615d1e048a4a31e287ef3cfbda5": {
          "model_module": "@jupyter-widgets/controls",
          "model_name": "SliderStyleModel",
          "model_module_version": "1.5.0",
          "state": {
            "_model_module": "@jupyter-widgets/controls",
            "_model_module_version": "1.5.0",
            "_model_name": "SliderStyleModel",
            "_view_count": null,
            "_view_module": "@jupyter-widgets/base",
            "_view_module_version": "1.2.0",
            "_view_name": "StyleView",
            "description_width": "",
            "handle_color": null
          }
        },
        "e56e412eb18244d3810d7a860f4fd1ce": {
          "model_module": "@jupyter-widgets/base",
          "model_name": "LayoutModel",
          "model_module_version": "1.2.0",
          "state": {
            "_model_module": "@jupyter-widgets/base",
            "_model_module_version": "1.2.0",
            "_model_name": "LayoutModel",
            "_view_count": null,
            "_view_module": "@jupyter-widgets/base",
            "_view_module_version": "1.2.0",
            "_view_name": "LayoutView",
            "align_content": null,
            "align_items": null,
            "align_self": null,
            "border": null,
            "bottom": null,
            "display": null,
            "flex": null,
            "flex_flow": null,
            "grid_area": null,
            "grid_auto_columns": null,
            "grid_auto_flow": null,
            "grid_auto_rows": null,
            "grid_column": null,
            "grid_gap": null,
            "grid_row": null,
            "grid_template_areas": null,
            "grid_template_columns": null,
            "grid_template_rows": null,
            "height": null,
            "justify_content": null,
            "justify_items": null,
            "left": null,
            "margin": null,
            "max_height": null,
            "max_width": null,
            "min_height": null,
            "min_width": null,
            "object_fit": null,
            "object_position": null,
            "order": null,
            "overflow": null,
            "overflow_x": null,
            "overflow_y": null,
            "padding": null,
            "right": null,
            "top": null,
            "visibility": null,
            "width": null
          }
        }
      }
    }
  },
  "cells": [
    {
      "cell_type": "markdown",
      "metadata": {
        "id": "view-in-github",
        "colab_type": "text"
      },
      "source": [
        "<a href=\"https://colab.research.google.com/github/jennyromero/Bimestral_colabj/blob/main/Bimestral.ipynb\" target=\"_parent\"><img src=\"https://colab.research.google.com/assets/colab-badge.svg\" alt=\"Open In Colab\"/></a>"
      ]
    },
    {
      "cell_type": "markdown",
      "source": [
        "### BIMESTRAL"
      ],
      "metadata": {
        "id": "ZGX6aprv1UBi"
      }
    },
    {
      "cell_type": "markdown",
      "source": [
        "### Ejemplos de graficas de funciones en colab"
      ],
      "metadata": {
        "id": "DJF5dCGboXVG"
      }
    },
    {
      "cell_type": "code",
      "source": [
        "import matplotlib.pyplot as plt\n",
        "import numpy as np\n",
        "from numpy.polynomial import Polynomial\n",
        "import pandas as pd"
      ],
      "metadata": {
        "id": "cDB1Y-oRis9o"
      },
      "execution_count": null,
      "outputs": []
    },
    {
      "cell_type": "code",
      "source": [
        "def poly(coeficientes):\n",
        "  return lambda x: sum([coef*x**i for i, coef in enumerate(coeficientes)])\n",
        "#log2(x)\n",
        "f= lambda x: np.log2(x)\n",
        "#1+x+2*x**2\n",
        "g= lambda x: 1+x+2*x**2\n",
        "#Cualquier polinomica\n",
        "h=poly([1,2,1])#1+2*x+x**2\n",
        "h2=Polynomial([1,2,1])\n",
        "\n",
        "xdis=np.arange(0.01,2,0.2)\n",
        "x=np.linspace(0.01,2,200)\n",
        "\n",
        "h2.roots()\n",
        "h2.deriv()"
      ],
      "metadata": {
        "colab": {
          "base_uri": "https://localhost:8080/",
          "height": 38
        },
        "id": "LputyXqwmbQp",
        "outputId": "f5db9906-fc39-4a40-801c-e84379d35ce6"
      },
      "execution_count": null,
      "outputs": [
        {
          "output_type": "execute_result",
          "data": {
            "text/plain": [
              "Polynomial([2., 2.], domain=[-1.,  1.], window=[-1.,  1.])"
            ],
            "text/latex": "$x \\mapsto \\text{2.0} + \\text{2.0}\\,x$"
          },
          "metadata": {},
          "execution_count": 4
        }
      ]
    },
    {
      "cell_type": "code",
      "source": [
        "plt.title(\"Gráfica de funciones de prueba\")\n",
        "plt.grid()\n",
        "plt.axhline(y=0,color=\"r\")\n",
        "plt.axvline(x=0,color=\"r\")\n",
        "plt.plot(x,f(x))\n",
        "plt.plot(xdis,g(xdis),\"v\")\n",
        "plt.plot(x,h2(x))"
      ],
      "metadata": {
        "colab": {
          "base_uri": "https://localhost:8080/",
          "height": 298
        },
        "id": "qoI797hMmjpU",
        "outputId": "798f2d5b-22a0-4939-f18e-164c56ec48ae"
      },
      "execution_count": null,
      "outputs": [
        {
          "output_type": "execute_result",
          "data": {
            "text/plain": [
              "[<matplotlib.lines.Line2D at 0x7f0aebd57f50>]"
            ]
          },
          "metadata": {},
          "execution_count": 5
        },
        {
          "output_type": "display_data",
          "data": {
            "text/plain": [
              "<Figure size 432x288 with 1 Axes>"
            ],
            "image/png": "[encoded data removed]"
          },
          "metadata": {
            "needs_background": "light"
          }
        }
      ]
    },
    {
      "cell_type": "code",
      "source": [
        "import numpy as np\n",
        "import matplotlib.pyplot as plt\n",
        "from IPython.display import display, clear_output\n",
        "import ipywidgets as widgets\n",
        "\n",
        "fig, ax = plt.subplots(nrows=1, ncols=1)\n",
        "x = np.linspace(-20, 20)\n",
        "y = 1*pow(x,2)+2*x+3\n",
        "\n",
        "line, = ax.plot(x, y,color='pink')\n",
        "ax.set_xlabel('x')\n",
        "ax.set_ylabel('y')\n",
        "\n",
        "def grafica(a):\n",
        "    line.set_ydata(a*pow(x,2)+2*x+3)\n",
        "    ax.relim()\n",
        "    ax.autoscale()\n",
        "    display(fig)\n",
        "    clear_output(wait=True)\n",
        "\n",
        "widgets.interact(grafica, a=(-5,5));"
      ],
      "metadata": {
        "colab": {
          "base_uri": "https://localhost:8080/",
          "height": 573,
          "referenced_widgets": [
            "42652ad4d1de4fc0a6e47c3f54215383",
            "f6b34101f5784489911b156874dbeb93",
            "db42c2db455a454082397bc1962ece86",
            "7fa1800b4b8d479a819ae8ccc4625224",
            "47178f60da4a4d6880f5671310e12fef",
            "ca35e615d1e048a4a31e287ef3cfbda5",
            "e56e412eb18244d3810d7a860f4fd1ce"
          ]
        },
        "id": "wOzjW5m3nwsg",
        "outputId": "47c413f0-af42-42e8-c9de-dd1d58568419"
      },
      "execution_count": null,
      "outputs": [
        {
          "output_type": "display_data",
          "data": {
            "text/plain": [
              "<Figure size 432x288 with 1 Axes>"
            ],
            "image/png": "[encoded data removed]"
          },
          "metadata": {
            "needs_background": "light"
          }
        },
        {
          "output_type": "display_data",
          "data": {
            "text/plain": [
              "interactive(children=(IntSlider(value=0, description='a', max=5, min=-5), Output()), _dom_classes=('widget-int…"
            ],
            "application/vnd.jupyter.widget-view+json": {
              "version_major": 2,
              "version_minor": 0,
              "model_id": "42652ad4d1de4fc0a6e47c3f54215383"
            }
          },
          "metadata": {}
        }
      ]
    },
    {
      "cell_type": "markdown",
      "source": [
        "### Funcion cuadratica"
      ],
      "metadata": {
        "id": "Rpq2Pp6QOsOK"
      }
    },
    {
      "cell_type": "code",
      "source": [
        "from math import sqrt\n",
        "\n",
        "# mostramos un mensaje de bienvenida\n",
        "print('Ecuación de segundo grado:')\n",
        "print('    ax² + bx + c = 0\\n')\n",
        "\n",
        "a, b, c = [float(input(f'Dame el coeficiente {coef}: ')) for coef in ('a', 'b', 'c')]\n",
        "\n",
        "\n",
        "discriminante =  b * b - 4 * a * c\n",
        "\n",
        "if discriminante < 0: # comprobamos si no existen soluciones reales\n",
        "    print(f'La ecuación no tiene soluciones reales.')\n",
        "else:\n",
        "    raiz = sqrt(discriminante)      # calculamos la raíz\n",
        "    x_1 = (-b + raiz) / (2 * a)     # calculamos una primera solución\n",
        "    if discriminante != 0:          # comprobamos si hay otra solución\n",
        "        x_2 = (-b - raiz) / (2 * a) # calculamos la segunda solución\n",
        "        print(f'Las soluciones son {x_1} y {x_2}.') # mostramos las dos soluciones\n",
        "    else:\n",
        "        print(f'La única solución es x = {x_1}') # mostramos la única solución"
      ],
      "metadata": {
        "colab": {
          "base_uri": "https://localhost:8080/"
        },
        "id": "e62-TeWiOOdq",
        "outputId": "30430f2c-1df5-409e-aec5-097a04bf594b"
      },
      "execution_count": 5,
      "outputs": [
        {
          "output_type": "stream",
          "name": "stdout",
          "text": [
            "Ecuación de segundo grado:\n",
            "    ax² + bx + c = 0\n",
            "\n",
            "Dame el coeficiente a: 2.25\n",
            "Dame el coeficiente b: 1.5\n",
            "Dame el coeficiente c: -2\n",
            "Las soluciones son 0.6666666666666666 y -1.3333333333333333.\n"
          ]
        }
      ]
    },
    {
      "cell_type": "markdown",
      "source": [
        "### FUNCIONES TRIGONOMETRICAS"
      ],
      "metadata": {
        "id": "JDhCoXH-TSlr"
      }
    },
    {
      "cell_type": "code",
      "source": [
        "import math\n",
        "a=math.sin(1)\n",
        "b=math.cos(1)\n",
        "c=math.tan(1)\n",
        "print(a)\t   ##Imprime: 0.841\n",
        "print(b)\t   ##Imprime: 0.54\n",
        "print(c)\t   ##Imprime: 1.557"
      ],
      "metadata": {
        "colab": {
          "base_uri": "https://localhost:8080/"
        },
        "id": "HxlFjBqRTLFz",
        "outputId": "f4385eeb-401e-4838-cd37-c88a526af698"
      },
      "execution_count": 8,
      "outputs": [
        {
          "output_type": "stream",
          "name": "stdout",
          "text": [
            "0.8414709848078965\n",
            "0.5403023058681398\n",
            "1.5574077246549023\n"
          ]
        }
      ]
    },
    {
      "cell_type": "code",
      "source": [
        "import math\n",
        "\n",
        "grados = 60\n",
        "radianes = (grados* math.pi)/180\n",
        "\n",
        "seno = math.sin(radianes)\n",
        "coseno = math.cos(radianes)\n",
        "tangente = math.tan(radianes)\n",
        "\n",
        "print(seno)\n",
        "print(coseno)\n",
        "print(tangente)"
      ],
      "metadata": {
        "colab": {
          "base_uri": "https://localhost:8080/"
        },
        "id": "o4-Qnb3sTaFx",
        "outputId": "5a12d807-a6ef-4f76-c8a5-5964726c3586"
      },
      "execution_count": 9,
      "outputs": [
        {
          "output_type": "stream",
          "name": "stdout",
          "text": [
            "0.8660254037844386\n",
            "0.5000000000000001\n",
            "1.7320508075688767\n"
          ]
        }
      ]
    },
    {
      "cell_type": "code",
      "source": [
        "import matplotlib.pyplot as plt\n",
        "import math\n",
        "\n",
        "grados = []\n",
        "seno = []\n",
        "coseno = []\n",
        "tangent = []\n",
        "\n",
        "for i in range(0,540):\n",
        "\tgrados.append(i)\n",
        "\tradianes = (i* math.pi)/180\n",
        "\tseno.append(math.sin(radianes))\n",
        "\tcoseno.append(math.cos(radianes))\n",
        "  \n",
        "\n",
        "plt.ylim(-2,2)\n",
        "plt.plot(grados,seno,\"r\")\n",
        "plt.plot(grados,coseno,\"b\")\n",
        "plt.show()"
      ],
      "metadata": {
        "colab": {
          "base_uri": "https://localhost:8080/",
          "height": 269
        },
        "id": "Nu1qxpvETfS6",
        "outputId": "041dc88f-40e4-40dd-f731-26ad61d2aba9"
      },
      "execution_count": 18,
      "outputs": [
        {
          "output_type": "display_data",
          "data": {
            "text/plain": [
              "<Figure size 432x288 with 1 Axes>"
            ],
            "image/png": "[encoded data removed]"
          },
          "metadata": {
            "needs_background": "light"
          }
        }
      ]
    },
    {
      "cell_type": "code",
      "source": [
        "import numpy as np\n",
        "import matplotlib.pyplot as  plt\n",
        "import math as m\n",
        "from matplotlib import pyplot\n",
        "from numpy import linspace, pi, sin \n",
        "from matplotlib.pyplot import plot, show, xlim,ylim,xticks\n",
        "from numpy import linspace, pi, sin, cos\n",
        "import math\n",
        "\n",
        "print(\"GRAFICAR:\")\n",
        "print(\"1: Lineal\")\n",
        "print(\"2: Cuadratica\")\n",
        "print(\"3: Cubica\")\n",
        "print(\"4: Logaritmica\")\n",
        "print(\"5: Exponencial\")\n",
        "print(\"6: Trigonometrica\")\n",
        "\n",
        "opcion = int(input(\"Que opción deseas usar: \"))\n",
        "\n",
        "N = 100\n",
        "def Función_linea(m,x,b):\n",
        "  return m*x + b\n",
        "# PROCESSING:\n",
        "if (opcion == 1):\n",
        "  print(\"----------------------------------\")\n",
        "  print(\"--------Grafica  lineal-----------\")\n",
        "  print(\"----------------------------------\")\n",
        "  m = int(input(\"Digite el valor de la pendiente: \"))\n",
        "  b = int(input(\"Digite el valor del punto de corte con ele eje y: \"))\n",
        "\n",
        "  x = np.linspace(-10,10, num = N) \n",
        "  y = Función_linea(m,x,b)\n",
        "\n",
        "  plt.plot(x,y,color = \"r\") \n",
        "  plt.xlabel(\"x\")\n",
        "  plt.ylabel(\"y\")\n",
        "  plt.title(\"Función lineal: y = mx + b\")\n",
        "  plt.grid()\n",
        "  plt.axhline(y=0,color= \"b\")\n",
        "  plt.axvline(x=0,color= \"b\")\n",
        "  plt.show()\n",
        "  plt.savefig(\"funcion_lineal.png\")\n",
        "\n",
        "elif(opcion == 2):\n",
        "  print(\"-------------------------------------\")\n",
        "  print(\"--------Grafica Cuadratica-----------\")\n",
        "  print(\"-------------------------------------\")\n",
        "  a =float(input(\"ingrese el valor de a:\"))\n",
        "  b=float(input(\"ingrese el valor de b:\"))\n",
        "  c=float(input(\"ingrese el valor de c:\"))\n",
        "  disc=(b**2)-(4*a*c)\n",
        "  raiz=(disc)**(0.5)\n",
        "\n",
        "  if(disc>0):\n",
        "    x1=((-b)+raiz)/(2*a)\n",
        "    x2=((-b)-raiz)/(2*a)\n",
        "    print(\"x1= \",x1)\n",
        "    print(\"x2= \",x2)\n",
        "\n",
        "  elif(disc==0):\n",
        "    x1=((-b)+raiz)/(2*a)\n",
        "    x2=((-b)-raiz)/(2*a)\n",
        "    print(\"x1= \",x1)\n",
        "    print(\"x2= \",x2)\n",
        "  else:\n",
        "    print(\"Solucion a tu problema de grafica\")\n",
        "\n",
        "  def f(x):\n",
        "    return a*(x**2)+b*x+c\n",
        "\n",
        "  x = np.linspace(-100,50+np.pi,100)\n",
        "\n",
        "  pyplot.plot(x,[f(i)for i in x])\n",
        "\n",
        "  pyplot.axhline(0, color= \"black\")\n",
        "  pyplot.axvline(0, color= \"black\")\n",
        "\n",
        "  pyplot.xlim(-50,50)\n",
        "  pyplot.ylim(-50,50)\n",
        "\n",
        "  pyplot.savefig(\"output.png\")\n",
        "  pyplot.show()\n",
        "elif(opcion == 3): \n",
        "  def f(a,b,c,d,x):\n",
        "   return a*x**3+b*x**2+c*x+d\n",
        "   N = 100\n",
        "  print(\"----------------------------------\")\n",
        "  print(\"--------Grafica  Cubica-----------\")\n",
        "  print(\"----------------------------------\")\n",
        "  a=float(input(\"ingrese el valor  a:\"))\n",
        "  b=float(input(\"ingrese el valor  b:\"))\n",
        "  c=float(input(\"ingrese el valor  c:\"))\n",
        "  d=float(input(\"ingrese el valor  d:\"))\n",
        "\n",
        "  x=np.linspace(-10,10, num = N)\n",
        "  y=f(a,b,c,d,x)\n",
        "  pyplot.plot(x,y,color = \"r\") \n",
        "  pyplot.axhline(0, color=\"black\")\n",
        "  pyplot.axvline(0, color=\"black\")\n",
        "  pyplot.show()\n",
        "elif(opcion == 4): \n",
        "  print(\"--------------------------------------\")\n",
        "  print(\"--------Grafica Logaritmica-----------\")\n",
        "  print(\"--------------------------------------\")\n",
        "  N = 100\n",
        "  x=np.linspace(-10,10, num = N)\n",
        "  y = np.log(x)\n",
        "  pyplot.plot(x,y)\n",
        "  pyplot.axhline(0, color=\"blue\")\n",
        "  pyplot.axvline(0, color=\"blue\")\n",
        "  plt.show()\n",
        "elif(opcion == 5):\n",
        "  print(\"--------------------------------------\")\n",
        "  print(\"--------Grafica Exponencial-----------\")\n",
        "  print(\"--------------------------------------\")\n",
        "  a = float(input(\" Dar el valor de a: \"))\n",
        "  x= np.linspace(-10,10,100)\n",
        "  y = a**x                  \n",
        "  pyplot.plot(x,y, color = \"r\")\n",
        "  pyplot.axhline(0, color= \"black\")\n",
        "  pyplot.axvline(0, color= \"black\")\n",
        "  pyplot.show()\n",
        " \n",
        "elif(opcion == 6):\n",
        "  op=int(input(\"Digite 0 para el Seno,1 Para el Coseno: \"))\n",
        "  if op==0:\n",
        "    x= np.linspace(-np.pi, np.pi, 256)\n",
        "    y=np.sin(x)\n",
        "\n",
        "    plt.plot(x,y)\n",
        "    plt.ylim(-2,2)\n",
        "    plt.show()\n",
        "  elif op==1:\n",
        "    x= np.linspace(-np.pi, np.pi, 256)\n",
        "    y=np.cos(x)\n",
        "\n",
        "    plt.plot(x,y)\n",
        "    plt.ylim(-2,2)\n",
        "    plt.show()"
      ],
      "metadata": {
        "colab": {
          "base_uri": "https://localhost:8080/",
          "height": 538
        },
        "id": "jgIxidfWVVhe",
        "outputId": "f96e52de-b0dc-49b4-a51e-81108b5e32f7"
      },
      "execution_count": 21,
      "outputs": [
        {
          "name": "stdout",
          "output_type": "stream",
          "text": [
            "GRAFICAR:\n",
            "1: Lineal\n",
            "2: Cuadratica\n",
            "3: Cubica\n",
            "4: Logaritmica\n",
            "5: Exponencial\n",
            "6: Trigonometrica\n",
            "Que opción deseas usar: 1\n",
            "----------------------------------\n",
            "--------Grafica  lineal-----------\n",
            "----------------------------------\n",
            "Digite el valor de la pendiente: 2\n",
            "Digite el valor del punto de corte con ele eje y: 5\n"
          ]
        },
        {
          "output_type": "display_data",
          "data": {
            "text/plain": [
              "<Figure size 432x288 with 1 Axes>"
            ],
            "image/png": "[encoded data removed]"
          },
          "metadata": {
            "needs_background": "light"
          }
        },
        {
          "output_type": "display_data",
          "data": {
            "text/plain": [
              "<Figure size 432x288 with 0 Axes>"
            ]
          },
          "metadata": {}
        }
      ]
    }
  ]
}